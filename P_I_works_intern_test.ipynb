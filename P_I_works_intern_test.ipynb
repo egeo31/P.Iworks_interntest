{
  "nbformat": 4,
  "nbformat_minor": 0,
  "metadata": {
    "colab": {
      "provenance": []
    },
    "kernelspec": {
      "name": "python3",
      "display_name": "Python 3"
    },
    "language_info": {
      "name": "python"
    }
  },
  "cells": [
    {
      "cell_type": "markdown",
      "source": [
        "\n",
        "In this problem because we don't know the feature's meaning and what they refer I impute all for feature colomn with it's own median. It is more convinient than imputing with mean. \n",
        "\n",
        "\n"
      ],
      "metadata": {
        "id": "fcINvzHKXH3G"
      }
    },
    {
      "cell_type": "code",
      "execution_count": 1,
      "metadata": {
        "id": "KVues4Mug-ar"
      },
      "outputs": [],
      "source": [
        "import pandas as pd\n",
        "import matplotlib as plt\n",
        "\n",
        "df = pd.read_csv('dataset.csv')\n",
        "\n",
        "df['feature_1'] = df['feature_1'].fillna(df['feature_1'].median())\n",
        "df['feature_2'] = df['feature_2'].fillna(df['feature_2'].median())\n",
        "df['feature_3'] = df['feature_3'].fillna(df['feature_3'].median())\n",
        "df['feature_4'] = df['feature_4'].fillna(df['feature_4'].median())\n",
        "\n",
        "\n"
      ]
    },
    {
      "cell_type": "markdown",
      "source": [
        "Lets see the histograms for observing distributions of the features. Let's are there any skewed sturctures and which distribution features are pointing"
      ],
      "metadata": {
        "id": "8rwT88lgXchc"
      }
    },
    {
      "cell_type": "code",
      "source": [
        "import matplotlib.pyplot as plt\n",
        "for col in df.columns[:4]:\n",
        "    plt.figure()\n",
        "    plt.hist(df[col].dropna(), bins=50)\n",
        "    plt.title(f'{col}')\n",
        "    plt.xlabel('feature value')\n",
        "    plt.ylabel('frequency')\n",
        "    plt.show()"
      ],
      "metadata": {
        "id": "aPRyWnuinDlS",
        "colab": {
          "base_uri": "https://localhost:8080/",
          "height": 1000
        },
        "outputId": "2cd8fd5e-c55a-4b28-9e72-33856c0d4e0e"
      },
      "execution_count": 2,
      "outputs": [
        {
          "output_type": "display_data",
          "data": {
            "text/plain": [
              "<Figure size 432x288 with 1 Axes>"
            ],
            "image/png": "[encoded data removed]"
          },
          "metadata": {
            "needs_background": "light"
          }
        },
        {
          "output_type": "display_data",
          "data": {
            "text/plain": [
              "<Figure size 432x288 with 1 Axes>"
            ],
            "image/png": "[encoded data removed]"
          },
          "metadata": {
            "needs_background": "light"
          }
        },
        {
          "output_type": "display_data",
          "data": {
            "text/plain": [
              "<Figure size 432x288 with 1 Axes>"
            ],
            "image/png": "[encoded data removed]"
          },
          "metadata": {
            "needs_background": "light"
          }
        },
        {
          "output_type": "display_data",
          "data": {
            "text/plain": [
              "<Figure size 432x288 with 1 Axes>"
            ],
            "image/png": "[encoded data removed]"
          },
          "metadata": {
            "needs_background": "light"
          }
        }
      ]
    },
    {
      "cell_type": "markdown",
      "source": [
        "As we can see Feature 1 and Feature 4 have skewed graph and also Feature 2 has partially skewed graph. Let's check the correlation between features for deciding are there any feature that we are going to drop "
      ],
      "metadata": {
        "id": "jxmJw70M1Mf6"
      }
    },
    {
      "cell_type": "code",
      "source": [
        "print(df[['feature_1', 'feature_2', 'feature_3', 'feature_4']].corr())"
      ],
      "metadata": {
        "id": "7ZntkewcixH0",
        "colab": {
          "base_uri": "https://localhost:8080/"
        },
        "outputId": "66743799-2534-41ab-b0e0-52bf0a5cba5d"
      },
      "execution_count": 3,
      "outputs": [
        {
          "output_type": "stream",
          "name": "stdout",
          "text": [
            "           feature_1  feature_2  feature_3  feature_4\n",
            "feature_1   1.000000   0.405881   0.122808   0.735658\n",
            "feature_2   0.405881   1.000000   0.137357   0.409338\n",
            "feature_3   0.122808   0.137357   1.000000   0.119408\n",
            "feature_4   0.735658   0.409338   0.119408   1.000000\n"
          ]
        }
      ]
    },
    {
      "cell_type": "markdown",
      "source": [
        "After the estimating correlations we observed that there is a correlation between Feature 1 and 4 but if I drop one of them we will lose %25 of the data and due to this %25 loss I ignored this correlations."
      ],
      "metadata": {
        "id": "RZ_REc8M2HAI"
      }
    },
    {
      "cell_type": "markdown",
      "source": [
        "Because our data set is imbalanced it is more convinient to use strasify for spliting. I divided our data %80 for training and %20 for testing "
      ],
      "metadata": {
        "id": "Nte9_1KV3B2o"
      }
    },
    {
      "cell_type": "code",
      "source": [
        "from sklearn.model_selection import train_test_split\n",
        "\n",
        "X = df.iloc[:, :4]  \n",
        "y = df.iloc[:, 4]   \n",
        "\n",
        "X_train, X_test, y_train, y_test = train_test_split(X, y, test_size=0.2, stratify=y)"
      ],
      "metadata": {
        "id": "jsfuMGFarrqN"
      },
      "execution_count": 4,
      "outputs": []
    },
    {
      "cell_type": "markdown",
      "source": [
        "Because there aren't huge gaps between features value's ranges maybe no need to scale it. But for being in more safe side I scaled all our data. Before I scaled it I observed little bit lower accuracy values after scaling accuracy of tests increased."
      ],
      "metadata": {
        "id": "zQFR3HDM4RzZ"
      }
    },
    {
      "cell_type": "code",
      "source": [
        "from sklearn.preprocessing import StandardScaler\n",
        "scaler = StandardScaler()\n",
        "X_train=scaler.fit_transform(X_train)\n",
        "X_test= scaler.fit_transform(X_test)"
      ],
      "metadata": {
        "id": "WTuoy3sTVvFk"
      },
      "execution_count": 5,
      "outputs": []
    },
    {
      "cell_type": "markdown",
      "source": [
        "Before choosing models I create a dictionaries for putting accuracy of our models and and how much time that take."
      ],
      "metadata": {
        "id": "gU3mkZA54vfU"
      }
    },
    {
      "cell_type": "code",
      "source": [
        "Model_dic={}\n",
        "Model_time={}"
      ],
      "metadata": {
        "id": "f9QQs20fyHR5"
      },
      "execution_count": 69,
      "outputs": []
    },
    {
      "cell_type": "markdown",
      "source": [
        "Because this is supervised clasification problem and my data is imbalanced it is more convinient to use classification algoritihms. After all my observations I chose Decision Tree, Random Forests, Support Vector and Gradient Boost as models. "
      ],
      "metadata": {
        "id": "Ao1wLFMJ5ccQ"
      }
    },
    {
      "cell_type": "code",
      "source": [
        "import time\n",
        "\n",
        "from sklearn.tree import DecisionTreeClassifier\n",
        "from sklearn.model_selection import train_test_split\n",
        "start_time = time.time()\n",
        "\n",
        "dtc = DecisionTreeClassifier()\n",
        "dtc.fit(X_train, y_train)\n",
        "end_time = time.time()\n",
        "\n",
        "accuracy = dtc.score(X_test, y_test)\n",
        "Model_dic[\"DecisionTreeClassifier\"]= accuracy\n",
        "Model_time[\"DecisionTreeClassifier\"]= end_time-start_time\n",
        "print(f\"Accuracy: {accuracy}\")"
      ],
      "metadata": {
        "id": "_TZYFlijlduu",
        "colab": {
          "base_uri": "https://localhost:8080/"
        },
        "outputId": "434405e5-4bce-4239-ca67-3cf1187f65df"
      },
      "execution_count": 70,
      "outputs": [
        {
          "output_type": "stream",
          "name": "stdout",
          "text": [
            "Accuracy: 0.82\n"
          ]
        }
      ]
    },
    {
      "cell_type": "code",
      "source": [
        "from sklearn.ensemble import RandomForestClassifier\n",
        "import time\n",
        "from sklearn.metrics import accuracy_score\n",
        "\n",
        "rf_classifier = RandomForestClassifier(n_estimators=100, max_depth=120, random_state=42)\n",
        "start_time = time.time()\n",
        "rf_classifier.fit(X_train, y_train)\n",
        "end_time = time.time()\n",
        "score = rf_classifier.score(X_test, y_test)\n",
        "Model_dic[\"RandomForestClassifier\"]= score\n",
        "Model_time[\"RandomForestClassifier\"]= end_time-start_time\n",
        "print(\"Accuracy:\", score)\n"
      ],
      "metadata": {
        "id": "H1rpFnmbUZ4u",
        "colab": {
          "base_uri": "https://localhost:8080/"
        },
        "outputId": "95601d87-8e11-4fde-b10d-106c8bb9f71d"
      },
      "execution_count": 71,
      "outputs": [
        {
          "output_type": "stream",
          "name": "stdout",
          "text": [
            "Accuracy: 0.885\n"
          ]
        }
      ]
    },
    {
      "cell_type": "markdown",
      "source": [
        "I think that there is no need to use a computationally expensive method such as grid search, as it seems sufficient to be able to predict the already small number of viruses with a hit rate of 88.5%. I did manuel hyperparameter tunning and found this max depth and n_estimators as optimal parameter value."
      ],
      "metadata": {
        "id": "2I1D_ZYBUZOz"
      }
    },
    {
      "cell_type": "code",
      "source": [
        "import time\n",
        "from sklearn.ensemble import GradientBoostingClassifier\n",
        "model = GradientBoostingClassifier()\n",
        "start_time = time.time()\n",
        "model.fit(X_train, y_train)\n",
        "\n",
        "y_pred = model.predict(X_test)\n",
        "end_time = time.time()\n",
        "accuracy = accuracy_score(y_test, y_pred)\n",
        "Model_dic[\"GradientBoostingClassifier\"]= accuracy\n",
        "Model_time[\"GradientBoostingClassifier\"]= end_time-start_time\n",
        "print(\"accuracy:\", accuracy)"
      ],
      "metadata": {
        "id": "40AkojwvZhId",
        "colab": {
          "base_uri": "https://localhost:8080/"
        },
        "outputId": "565908ce-069b-4e8f-8275-a50146c326f7"
      },
      "execution_count": 72,
      "outputs": [
        {
          "output_type": "stream",
          "name": "stdout",
          "text": [
            "accuracy: 0.8575\n"
          ]
        }
      ]
    },
    {
      "cell_type": "code",
      "source": [
        "import time\n",
        "from sklearn.svm import SVC\n",
        "from sklearn.metrics import accuracy_score\n",
        "start_time = time.time()\n",
        "clf = SVC(kernel='linear')\n",
        "clf.fit(X_train, y_train)\n",
        "\n",
        "y_pred = clf.predict(X_test)\n",
        "end_time = time.time()\n",
        "accuracy = accuracy_score(y_test, y_pred)\n",
        "Model_dic[\"SupportVector\"]= accuracy\n",
        "Model_time[\"SupportVector\"]= end_time-start_time\n",
        "print(\"Accuracy:\", accuracy)"
      ],
      "metadata": {
        "colab": {
          "base_uri": "https://localhost:8080/"
        },
        "id": "R7sLlnIbCdMT",
        "outputId": "49c3e6ef-6ed0-41d3-9471-0291b20d76de"
      },
      "execution_count": 73,
      "outputs": [
        {
          "output_type": "stream",
          "name": "stdout",
          "text": [
            "Accuracy: 0.66\n"
          ]
        }
      ]
    },
    {
      "cell_type": "code",
      "source": [
        "import matplotlib.pyplot as plt\n",
        "\n",
        "\n",
        "\n",
        "\n",
        "\n",
        "Model_dic = list(Model_dic.items())\n",
        "\n",
        "\n",
        "\n",
        "plt.barh([x[0] for x in Model_dic], [x[1] for x in Model_dic])\n",
        "plt.title('accuracy table')\n",
        "plt.xlabel('accuracy')\n",
        "plt.ylabel('model')\n",
        "plt.show\n"
      ],
      "metadata": {
        "colab": {
          "base_uri": "https://localhost:8080/",
          "height": 313
        },
        "id": "dNF2wMQx7rQo",
        "outputId": "d05a24e8-2302-4d6c-f656-e8bd506fa05e"
      },
      "execution_count": 74,
      "outputs": [
        {
          "output_type": "execute_result",
          "data": {
            "text/plain": [
              "<function matplotlib.pyplot.show(close=None, block=None)>"
            ]
          },
          "metadata": {},
          "execution_count": 74
        },
        {
          "output_type": "display_data",
          "data": {
            "text/plain": [
              "<Figure size 432x288 with 1 Axes>"
            ],
            "image/png": "[encoded data removed]"
          },
          "metadata": {
            "needs_background": "light"
          }
        }
      ]
    },
    {
      "cell_type": "markdown",
      "source": [
        "Here it is the Accuray table. We can see that most accurate model is Random Forest model for our problem."
      ],
      "metadata": {
        "id": "V_Ti9IKZH4ww"
      }
    },
    {
      "cell_type": "code",
      "source": [
        "import matplotlib.pyplot as plt\n",
        "\n",
        "Model_time = list(Model_time.items())\n",
        "\n",
        "plt.barh([x[0] for x in Model_time], [x[1] for x in Model_time])\n",
        "\n",
        "plt.title('time table')\n",
        "plt.xlabel('time')\n",
        "plt.ylabel('model')\n",
        "plt.show()"
      ],
      "metadata": {
        "colab": {
          "base_uri": "https://localhost:8080/",
          "height": 295
        },
        "id": "TGg4p4T9Gr2L",
        "outputId": "cf6a5622-7555-4a19-f495-0ac948697a7e"
      },
      "execution_count": 75,
      "outputs": [
        {
          "output_type": "display_data",
          "data": {
            "text/plain": [
              "<Figure size 432x288 with 1 Axes>"
            ],
            "image/png": "[encoded data removed]"
          },
          "metadata": {
            "needs_background": "light"
          }
        }
      ]
    },
    {
      "cell_type": "markdown",
      "source": [
        "Here it is our Time table. This shows which model computed in how much time. As we can see Random Forest take the biggest time for computing. "
      ],
      "metadata": {
        "id": "_cg7m4iKIlUV"
      }
    }
  ]
}