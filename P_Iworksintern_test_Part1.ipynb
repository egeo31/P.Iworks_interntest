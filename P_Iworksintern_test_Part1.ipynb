{
  "nbformat": 4,
  "nbformat_minor": 0,
  "metadata": {
    "colab": {
      "provenance": []
    },
    "kernelspec": {
      "name": "python3",
      "display_name": "Python 3"
    },
    "language_info": {
      "name": "python"
    }
  },
  "cells": [
    {
      "cell_type": "markdown",
      "source": [
        "Question-3"
      ],
      "metadata": {
        "id": "OXbLVFcuabaX"
      }
    },
    {
      "cell_type": "code",
      "source": [
        "import pandas as pd\n",
        "import matplotlib.pyplot as plt\n",
        "\n",
        "df = pd.read_excel('DailyActivities.xlsx')\n",
        "persons = df.columns[1:]\n",
        "\n",
        "categories = df.iloc[:, 0]\n",
        "values = [list(df[person]) for person in persons]\n",
        "\n",
        "fig, ax = plt.subplots()\n",
        "\n",
        "colors = ['red', 'green', 'blue']\n",
        "\n",
        "for i in range(len(categories)):\n",
        "    for j in range(3):\n",
        "        ax.barh(i - 0.3 + (j * 0.3), values[j][i], height=0.2, color=colors[j], edgecolor='black')\n",
        "\n",
        "ax.set_yticks(range(len(categories)))\n",
        "ax.set_yticklabels(categories)\n",
        "\n",
        "ax.set_xlabel('values')\n",
        "ax.set_ylabel('categories')\n",
        "ax.set_title('Values for people')\n",
        "ax.legend(persons)\n",
        "\n",
        "plt.show()"
      ],
      "metadata": {
        "colab": {
          "base_uri": "https://localhost:8080/",
          "height": 295
        },
        "id": "D6qXFK0qR4au",
        "outputId": "15b79c47-c985-4efc-eae7-89fef5a4ea5f"
      },
      "execution_count": 12,
      "outputs": [
        {
          "output_type": "display_data",
          "data": {
            "text/plain": [
              "<Figure size 432x288 with 1 Axes>"
            ],
            "image/png": "[encoded data removed]"
          },
          "metadata": {
            "needs_background": "light"
          }
        }
      ]
    },
    {
      "cell_type": "markdown",
      "source": [
        "Question-4"
      ],
      "metadata": {
        "id": "PmzisAP4ag-E"
      }
    },
    {
      "cell_type": "code",
      "execution_count": 14,
      "metadata": {
        "id": "UqdQy3s71ydE"
      },
      "outputs": [],
      "source": [
        "import numpy as np\n",
        "import pandas as pd\n",
        "df = pd.read_csv('data.csv')\n",
        "\n",
        "min_day_vacc = df.groupby('country')['daily_vaccinations'].min()\n",
        "\n",
        "for country in df['country'].unique():\n",
        "    df.loc[df['country'] == country, 'daily_vaccinations'] = df.loc[df['country'] == country, 'daily_vaccinations'].fillna(min_day_vacc [country])\n",
        "df['daily_vaccinations'].fillna(0, inplace=True)"
      ]
    },
    {
      "cell_type": "markdown",
      "source": [
        "Question 5-6"
      ],
      "metadata": {
        "id": "LgmHcdCpakpc"
      }
    },
    {
      "cell_type": "code",
      "source": [
        "\n",
        "df_median = df.groupby('country')['daily_vaccinations'].median().sort_values(ascending=False).head(3)\n",
        "print(df_median)"
      ],
      "metadata": {
        "id": "2vixM4Xo_y_e",
        "outputId": "b5f3fbdc-9de7-4af4-f968-1bbe2bf0e0c6",
        "colab": {
          "base_uri": "https://localhost:8080/"
        }
      },
      "execution_count": 26,
      "outputs": [
        {
          "output_type": "stream",
          "name": "stdout",
          "text": [
            "country\n",
            "United States    399093.0\n",
            "China            299107.5\n",
            "India            182551.5\n",
            "Name: daily_vaccinations, dtype: float64\n"
          ]
        }
      ]
    },
    {
      "cell_type": "markdown",
      "source": [
        "Question-7"
      ],
      "metadata": {
        "id": "jzKiVTaharqJ"
      }
    },
    {
      "cell_type": "code",
      "source": [
        "import pandas as pd\n",
        "\n",
        "totalvaccinations = df[df['date'] == '1/6/2021']['daily_vaccinations'].sum()\n",
        "print(totalvaccinations)"
      ],
      "metadata": {
        "id": "K_Hm-9DDEMYz",
        "colab": {
          "base_uri": "https://localhost:8080/"
        },
        "outputId": "4df11903-c627-422d-d0a5-95948e61d3bf"
      },
      "execution_count": 25,
      "outputs": [
        {
          "output_type": "stream",
          "name": "stdout",
          "text": [
            "1466568.0\n"
          ]
        }
      ]
    },
    {
      "cell_type": "markdown",
      "source": [
        "Question-9"
      ],
      "metadata": {
        "id": "QC2VRon9axr1"
      }
    },
    {
      "cell_type": "code",
      "source": [
        "UPDATE vaccination_table AS vt\n",
        "SET daily_vaccinations = (\n",
        "    SELECT median(daily_vaccinations)\n",
        "    FROM vaccination_table\n",
        "    WHERE country = vt.country AND daily_vaccinations IS NOT NULL\n",
        ")\n",
        "WHERE daily_vaccinations IS NULL;\n",
        "\n",
        "UPDATE vaccination_table AS vt\n",
        "SET daily_vaccinations = 0\n",
        "WHERE daily_vaccinations IS NULL AND country NOT IN (\n",
        "    SELECT DISTINCT country FROM vaccination_table WHERE daily_vaccinations IS NOT NULL\n",
        ");"
      ],
      "metadata": {
        "id": "qRrJ4WB6bchH"
      },
      "execution_count": null,
      "outputs": []
    },
    {
      "cell_type": "markdown",
      "source": [
        "Question-10"
      ],
      "metadata": {
        "id": "HSWsOBSLa6cf"
      }
    },
    {
      "cell_type": "code",
      "source": [
        "import pandas as pd\n",
        "import re\n",
        "\n",
        "\n",
        "df = pd.read_csv('data2.csv')\n",
        "\n",
        "\n",
        "urlstruct = re.compile(r'https?://([a-zA-Z0-9_]+\\.?[a-zA-Z0-9]+\\.[a-zA-Z0-9]+)')\n",
        "\n",
        "\n",
        "devices = df['devices']\n",
        "urls = {}\n",
        "for device in devices.unique():\n",
        "    \n",
        "    devicedf = df[df['devices'] == device]\n",
        "    \n",
        "    \n",
        "    for data_access_link in device['data_access_link']:\n",
        "        match = urlstruct.search(data_access_link)\n",
        "        if match:\n",
        "            urls[device] = match.group(1)\n",
        "            \n",
        "    \n",
        "print(urls)   "
      ],
      "metadata": {
        "colab": {
          "base_uri": "https://localhost:8080/"
        },
        "id": "L_WBJBVUXvph",
        "outputId": "3ed15fe6-5bff-43b6-e224-301d00ab3d04"
      },
      "execution_count": null,
      "outputs": [
        {
          "output_type": "stream",
          "name": "stdout",
          "text": [
            "{'a': 'xcd32112.smart', 'al': 'xcd32112.smart', 'k': 'd32112.smart', 'iphone': 'xcd322.smart'}\n"
          ]
        }
      ]
    }
  ]
}